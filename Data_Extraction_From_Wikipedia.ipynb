{
 "cells": [
  {
   "cell_type": "code",
   "execution_count": 1,
   "id": "alpha-cocktail",
   "metadata": {},
   "outputs": [],
   "source": [
    "import requests\n",
    "import json"
   ]
  },
  {
   "cell_type": "code",
   "execution_count": 2,
   "id": "least-causing",
   "metadata": {},
   "outputs": [],
   "source": [
    "\"\"\"\n",
    "    get_category_items.py\n",
    "\n",
    "    MediaWiki API Demos\n",
    "    Demo of `Categorymembers` module : List twenty items in a category\n",
    "\n",
    "    MIT License\n",
    "\"\"\"\n",
    "\n",
    "S = requests.Session()\n",
    "\n",
    "URL = \"https://hi.wikipedia.org/w/api.php\"\n",
    "\n",
    "PARAMS = {\n",
    "    \"action\": \"query\",\n",
    "    \"cmtitle\": \"श्रेणी:शिक्षा\",\n",
    "    \"cmlimit\": \"100\",\n",
    "    \"list\": \"categorymembers\",\n",
    "    \"format\": \"json\"\n",
    "}\n"
   ]
  },
  {
   "cell_type": "code",
   "execution_count": 3,
   "id": "devoted-operations",
   "metadata": {},
   "outputs": [],
   "source": [
    "R = S.get(url=URL, params=PARAMS)\n",
    "DATA = R.json()\n",
    "\n",
    "PAGES = DATA['query']['categorymembers']\n",
    "\n",
    "page_names = []\n",
    "\n",
    "for page in PAGES:\n",
    "    page_names.append(page['title'])"
   ]
  },
  {
   "cell_type": "code",
   "execution_count": 4,
   "id": "difficult-cathedral",
   "metadata": {},
   "outputs": [],
   "source": [
    "p = []\n",
    "for i in page_names:\n",
    "    S = requests.Session()\n",
    "    URL = \"https://hi.wikipedia.org/w/api.php\"\n",
    "    PARAMS = {\n",
    "    \"format\": \"json\",\n",
    "    \"action\": \"query\",\n",
    "    \"prop\": \"extracts\",\n",
    "    \"exlimit\":\"max\",\n",
    "    \"explaintext\":True,\n",
    "    \"exintro\":True,\n",
    "    \"titles\":i}\n",
    "    R = S.get(url=URL, params=PARAMS)\n",
    "    DATA = R.json()\n",
    "    p.append(DATA[\"query\"][\"pages\"])"
   ]
  },
  {
   "cell_type": "code",
   "execution_count": 5,
   "id": "indirect-cycling",
   "metadata": {},
   "outputs": [],
   "source": [
    "doc_data = []\n",
    "for i in p:\n",
    "    for key in i:\n",
    "        doc_data.append(i[key][\"extract\"])"
   ]
  },
  {
   "cell_type": "code",
   "execution_count": 6,
   "id": "minor-centre",
   "metadata": {},
   "outputs": [],
   "source": [
    "o = doc_data"
   ]
  },
  {
   "cell_type": "code",
   "execution_count": 7,
   "id": "cooked-newton",
   "metadata": {},
   "outputs": [],
   "source": [
    "count = 0\n",
    "doc_data = []\n",
    "for i in range(len(o)):\n",
    "    if o[i] != \"\":\n",
    "        doc_data.append(o[i])"
   ]
  },
  {
   "cell_type": "code",
   "execution_count": 8,
   "id": "toxic-looking",
   "metadata": {},
   "outputs": [],
   "source": [
    "import codecs,string\n",
    "def detect_language(character):\n",
    "    maxchar = max(character)\n",
    "    if u'\\u0900' <= maxchar <= u'\\u097f':\n",
    "        return 'hindi'    "
   ]
  },
  {
   "cell_type": "code",
   "execution_count": 9,
   "id": "upset-devon",
   "metadata": {},
   "outputs": [],
   "source": [
    "updated_data = []\n",
    "for j in range(len(doc_data)):\n",
    "    string = \"\"\n",
    "    for i in doc_data[j]:\n",
    "        if i == \" \":\n",
    "            string = string + i\n",
    "        else:\n",
    "            isEng = detect_language(i)\n",
    "            if isEng == \"hindi\":\n",
    "                string = string + i\n",
    "    updated_data.append(string)   "
   ]
  },
  {
   "cell_type": "code",
   "execution_count": 10,
   "id": "instrumental-lighting",
   "metadata": {},
   "outputs": [],
   "source": [
    "for i in range(len(updated_data)):\n",
    "    filename = str(i)+\".txt\"\n",
    "    filename = \"hindi_data/\" + filename\n",
    "    file1 = open(filename,\"a\")\n",
    "    file1.writelines(updated_data[i])\n",
    "    file1.close()"
   ]
  },
  {
   "cell_type": "code",
   "execution_count": null,
   "id": "advised-snake",
   "metadata": {},
   "outputs": [],
   "source": []
  }
 ],
 "metadata": {
  "kernelspec": {
   "display_name": "Python 3",
   "language": "python",
   "name": "python3"
  },
  "language_info": {
   "codemirror_mode": {
    "name": "ipython",
    "version": 3
   },
   "file_extension": ".py",
   "mimetype": "text/x-python",
   "name": "python",
   "nbconvert_exporter": "python",
   "pygments_lexer": "ipython3",
   "version": "3.8.3"
  }
 },
 "nbformat": 4,
 "nbformat_minor": 5
}
